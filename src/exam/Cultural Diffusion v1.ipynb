{
 "cells": [
  {
   "cell_type": "markdown",
   "metadata": {},
   "source": [
    "## Conceptual description\n",
    "\n",
    "Basis idee is een grid waarbij elke grid cell een agent is. Een agent heeft interactie met een random (=proportional to similarity) gekozen neighbor en neem dan een cultural trait over van zijn neighbor. Het originele model is van Axelrod (zie bijgevoegd paper). Er is ondertussen een hele literatuur (zie het Flache paper voor een recente review).  \n",
    "\n",
    "- Space: SingleGrid; an 'excel-like' space with each agent occopying a single grid cell\n",
    "- 1 agent type with attributes: \n",
    "    - **pos**: position (x, y)\n",
    "    - Cultural traits, each with 2 possible values, e.g.: \n",
    "        - **music** = {Rock, Jazz}\n",
    "        - **sports** = {Soccer, Cycling}\n",
    "        - **favorite color** = {Red, Blue}\n",
    "        - **drink** = {Tea, Coffee}\n",
    "    - \n",
    "- Schedule: RandomActivation\n",
    "\n",
    "Agent step:\n",
    "- For each neighbor, calculate the similarity \n",
    "- Proportional to this similarity, pick a 'random' neighbor to interact with (+ noise?)\n",
    "- Randomly pick one differing trait and change it\n",
    "\n",
    "\n",
    "\n",
    "Plot: \n",
    "- 2D grid, coloured based on traits (?) \n",
    "- Number of distinct regions\n"
   ]
  },
  {
   "cell_type": "code",
   "execution_count": 18,
   "metadata": {},
   "outputs": [],
   "source": [
    "import collections\n",
    "import random\n",
    "\n",
    "import numpy as np\n",
    "\n",
    "from mesa import Model, Agent\n",
    "from mesa.time import RandomActivation\n",
    "from mesa.space import SingleGrid\n",
    "from mesa.datacollection import DataCollector\n",
    "\n",
    "\n",
    "class CulturalDiff(Model):\n",
    "    \"\"\"\n",
    "    Model class for the Schelling segregation model.\n",
    "    \n",
    "    Parameters\n",
    "    ----------\n",
    "    height : int\n",
    "             height of grid\n",
    "    width : int\n",
    "            height of grid\n",
    "    seed : int\n",
    "            random seed\n",
    "    \n",
    "    Attributes\n",
    "    ----------\n",
    "    height : int\n",
    "    width : int\n",
    "    density : float\n",
    "    schedule : RandomActivation instance\n",
    "    grid : SingleGrid instance\n",
    "    \n",
    "    \"\"\"\n",
    "\n",
    "    def __init__(self, height=20, width=20, seed=None):\n",
    "        super().__init__(seed=seed)\n",
    "        self.height = height\n",
    "        self.width = width\n",
    "\n",
    "        self.schedule = RandomActivation(self)\n",
    "        self.grid = SingleGrid(width, height, torus=True)\n",
    "        self.datacollector = DataCollector(model_reporters={'diversity':calculate_nr_of_cultures})\n",
    "\n",
    "\n",
    "\n",
    "        # Fill grid with agents with random traits\n",
    "        \n",
    "        # Note that this implementation does not guarantee some set distribution of traits. \n",
    "        # Therefore, examining the effect of minorities etc is not facilitated.\n",
    "        for cell in self.grid.coord_iter():\n",
    "            agent_music = self.random.choice(['Rock', 'Jazz'])\n",
    "            agent_sport = self.random.choice(['Soccer', 'Cycling'])\n",
    "            agent_color = self.random.choice(['Red', 'Blue'])\n",
    "            agent_drink = self.random.choice(['Tea', 'Coffee'])\n",
    "            \n",
    "            agent = CulturalDiffAgent(cell, self, agent_music, agent_sport,\n",
    "                                      agent_color, agent_drink)\n",
    "            self.grid.position_agent(agent, cell)\n",
    "            self.schedule.add(agent)\n",
    "\n",
    "    def step(self):\n",
    "        \"\"\"\n",
    "        Run one step of the model.\n",
    "        \"\"\"\n",
    "        self.datacollector.collect(self)\n",
    "        self.schedule.step()\n",
    "\n",
    "\n",
    "class CulturalDiffAgent(Agent):\n",
    "    \"\"\"\n",
    "    Schelling segregation agent\n",
    "    \n",
    "    Parameters\n",
    "    ----------\n",
    "    pos : tuple of 2 ints\n",
    "          the x,y coordinates in the grid\n",
    "    model : Model instance\n",
    "    agent_music : {'Rock', 'Jazz'}\n",
    "    agent_sport : {'Soccer', 'Cycling'}\n",
    "    agent_color : {'Red', 'Blue'}\n",
    "    agent_drink : {'Tea', 'Coffee'}\n",
    "    \n",
    "    \"\"\"\n",
    "\n",
    "    def __init__(self, pos, model, agent_music, agent_sport, agent_color, agent_drink):\n",
    "        super().__init__(pos, model)\n",
    "        self.pos = pos\n",
    "        self.agent_music = agent_music\n",
    "        self.agent_sport = agent_sport\n",
    "        self.agent_color = agent_color\n",
    "        self.agent_drink = agent_drink\n",
    "        self.traits = ['agent_music', 'agent_sport', 'agent_color', 'agent_drink']\n",
    "        \n",
    "    def step(self):\n",
    "        \n",
    "        #For each neighbor, calculate the similarity\n",
    "        neighbor_similarity_dict = {}\n",
    "        for neighbor in self.model.grid.neighbor_iter(self.pos, moore=True):\n",
    "            neighbor_similarity = 0\n",
    "            if self.agent_music == neighbor.agent_music: \n",
    "                neighbor_similarity += 1\n",
    "            if self.agent_sport == neighbor.agent_sport:\n",
    "                neighbor_similarity += 1\n",
    "            if self.agent_color == neighbor.agent_color:\n",
    "                neighbor_similarity += 1\n",
    "            if self.agent_drink == neighbor.agent_drink:\n",
    "                neighbor_similarity += 1\n",
    "            neighbor_similarity_dict[neighbor] = neighbor_similarity\n",
    "        \n",
    "        # Proportional to this similarity, pick a 'random' neighbor to interact with\n",
    "        neighbor_to_interact = self.random.choices(list(neighbor_similarity_dict.keys()),\n",
    "                                                   weights=neighbor_similarity_dict.values(), k=1)[0]\n",
    "        \n",
    "        # Select a trait that differs between the selected neighbor and self and change that trait in self\n",
    "        if neighbor_similarity_dict[neighbor_to_interact] != 4: #if 4, then they are already the same\n",
    "            \n",
    "            differing_traits = []\n",
    "            for trait in self.traits: \n",
    "                if getattr(self, trait) != getattr(neighbor_to_interact, trait):\n",
    "                    differing_traits.append(trait)\n",
    "\n",
    "            trait_to_adopt = self.random.choice(differing_traits)\n",
    "            trait_to_adopt_value = getattr(neighbor_to_interact, str(trait_to_adopt))\n",
    "\n",
    "            setattr(self, trait_to_adopt, trait_to_adopt_value)\n",
    "\n",
    "            \n",
    "def calculate_nr_of_cultures(model):\n",
    "    diversity = collections.defaultdict(int)\n",
    "    for (agent, i, j) in model.grid.coord_iter():\n",
    "        if agent:\n",
    "            profile = [0] * 4\n",
    "            if agent.agent_music == 'Jazz':\n",
    "                profile[0] = 1\n",
    "\n",
    "            if agent.agent_sport == 'Cycling':\n",
    "                profile[1] = 1\n",
    "\n",
    "            if agent.agent_color == 'Blue':\n",
    "                profile[2] = 1\n",
    "\n",
    "            if agent.agent_drink == 'Coffee':\n",
    "                profile[3] = 1\n",
    "            \n",
    "            diversity[tuple(profile)] += 1\n",
    "\n",
    "    return len(diversity.keys())"
   ]
  },
  {
   "cell_type": "code",
   "execution_count": 19,
   "metadata": {},
   "outputs": [],
   "source": [
    "def traits_to_color(agent):\n",
    "    \"\"\" Converts the traits of an agent to a list of RGBA values\"\"\"\n",
    "    colors = [0] * 4\n",
    "    if agent.agent_music == 'Jazz':\n",
    "        colors[0] = 1\n",
    "            \n",
    "    if agent.agent_sport == 'Cycling':\n",
    "        colors[1] = 1\n",
    "            \n",
    "    if agent.agent_color == 'Blue':\n",
    "        colors[2] = 1\n",
    "            \n",
    "    if agent.agent_drink == 'Coffee':\n",
    "        colors[3] = 1\n",
    "    else: \n",
    "        colors[3] = 0.2 #Alpha of 0.2 is distinctly different from white and from the alpha = 1 color\n",
    "    \n",
    "    return colors"
   ]
  },
  {
   "cell_type": "markdown",
   "metadata": {},
   "source": [
    "# Visualization"
   ]
  },
  {
   "cell_type": "markdown",
   "metadata": {},
   "source": [
    "## Static images\n",
    "### After initialization"
   ]
  },
  {
   "cell_type": "code",
   "execution_count": 20,
   "metadata": {},
   "outputs": [],
   "source": [
    "model = CulturalDiff(seed=123456789)"
   ]
  },
  {
   "cell_type": "code",
   "execution_count": 21,
   "metadata": {},
   "outputs": [
    {
     "data": {
      "image/png": "[encoded data removed]",
      "text/plain": [
       "<Figure size 864x576 with 1 Axes>"
      ]
     },
     "metadata": {},
     "output_type": "display_data"
    }
   ],
   "source": [
    "import matplotlib.pyplot as plt\n",
    "import matplotlib.colors as colors\n",
    "import seaborn as sns\n",
    "import pandas as pd\n",
    "\n",
    "\n",
    "def plot_model(model, ax):\n",
    "    grid = np.zeros((model.height, model.width, 4))\n",
    "\n",
    "    for (cell, i, j) in model.grid.coord_iter():\n",
    "        value = [0,0,0,0] #in case not every cell is filled, the default colour is white\n",
    "        if cell is not None:\n",
    "            value = traits_to_color(cell)\n",
    "        grid[i,j] = value          \n",
    "    plt.imshow(grid)\n",
    "    \n",
    "fig, ax = plt.subplots()\n",
    "plot_model(model, ax)\n",
    "\n",
    "plt.show()"
   ]
  },
  {
   "cell_type": "code",
   "execution_count": 22,
   "metadata": {},
   "outputs": [
    {
     "data": {
      "text/plain": [
       "<AxesSubplot:>"
      ]
     },
     "execution_count": 22,
     "metadata": {},
     "output_type": "execute_result"
    },
    {
     "data": {
      "image/png": "[encoded data removed]",
      "text/plain": [
       "<Figure size 864x576 with 1 Axes>"
      ]
     },
     "metadata": {},
     "output_type": "display_data"
    }
   ],
   "source": [
    "for _ in range(250):\n",
    "    model.step()\n",
    "model.datacollector.get_model_vars_dataframe().plot()"
   ]
  },
  {
   "cell_type": "code",
   "execution_count": null,
   "metadata": {},
   "outputs": [],
   "source": []
  },
  {
   "cell_type": "code",
   "execution_count": null,
   "metadata": {},
   "outputs": [],
   "source": []
  }
 ],
 "metadata": {
  "kernelspec": {
   "display_name": "Python 3",
   "language": "python",
   "name": "python3"
  },
  "language_info": {
   "codemirror_mode": {
    "name": "ipython",
    "version": 3
   },
   "file_extension": ".py",
   "mimetype": "text/x-python",
   "name": "python",
   "nbconvert_exporter": "python",
   "pygments_lexer": "ipython3",
   "version": "3.8.5"
  }
 },
 "nbformat": 4,
 "nbformat_minor": 4
}
