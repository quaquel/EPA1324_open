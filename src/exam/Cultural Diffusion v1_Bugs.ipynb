{
 "cells": [
  {
   "cell_type": "markdown",
   "metadata": {},
   "source": [
    "## Conceptual description\n",
    "\n",
    "As people interact, they tend to become more alike in their beliefs, attitudes and behaviour. In \"The Dissemination of Culture: A Model with Local Convergence and Global Polarization\" (1997), Robert Axelrod presents an agent-based model to explain cultural diffusion. Analogous to Schelling's segregation model, the key to this conceptualization is the emergence of polarization from the interaction of individual agents. The basic premise is that the more similar an actor is to a neighbor, the more likely that that actor will adopt one of the neighbor's traits.\n",
    "\n",
    "In the model below, this is implemented by initializing the model by filling an excel-like grid with agents with random values [0,1] for each of four traits (music, sports, favorite color and drink):\n",
    "\n",
    "- *music* = {Rock, Jazz}\n",
    "- *sports* = {Soccer, Cycling}\n",
    "- *favorite color* = {Red, Blue}\n",
    "- *drink* = {Tea, Coffee}\n",
    "\n",
    "Each step, each agent (in random order) chooses a random neighbor from the 8 neighbors proportionaly to how similar it is to each of its neighbors, and adopts one randomly selected differing trait from this neighbor. \n",
    "\n",
    "To visualize the model, the four traits are transformed into 'RGBA' (Red-Green-Blue-Alpha) values; i.e. a color and an opacity. The visualizations below show the clusters of homogeneity being formed."
   ]
  },
  {
   "cell_type": "code",
   "execution_count": null,
   "metadata": {
    "ExecuteTime": {
     "end_time": "2021-01-15T14:24:22.014883Z",
     "start_time": "2021-01-15T14:24:22.000920Z"
    }
   },
   "outputs": [],
   "source": [
    "import collections\n",
    "import random\n",
    "\n",
    "import numpy as np\n",
    "\n",
    "from mesa import Model, Agent\n",
    "from mesa.time import RandomActivation\n",
    "from mesa.space import SingleGrid\n",
    "from mesa.datacollection import DataCollector\n",
    "\n",
    "class CulturalDiff(Model):\n",
    "    \"\"\"\n",
    "    Model class for the Schelling segregation model.\n",
    "    \n",
    "    Parameters\n",
    "    ----------\n",
    "    height : int\n",
    "             height of grid\n",
    "    width : int\n",
    "            height of grid\n",
    "    seed : int\n",
    "            random seed\n",
    "    \n",
    "    Attributes\n",
    "    ----------\n",
    "    height : int\n",
    "    width : int\n",
    "    density : float\n",
    "    schedule : RandomActivation instance\n",
    "    grid : SingleGrid instance\n",
    "    \n",
    "    \"\"\"\n",
    "\n",
    "    def __init__(self, height=20, width=20, seed=None):\n",
    "        __init__(seed=seed)\n",
    "        self.height = height\n",
    "        self.width = width\n",
    "\n",
    "        self.schedule = RandomActivation(self)\n",
    "        self.grid = space.HexGrid(width, height, torus=True)\n",
    "        self.datacollector = DataCollector(model_reporters={'diversity':count_nr_cultures})\n",
    "\n",
    "        # Fill grid with agents with random traits\n",
    "        \n",
    "        # Note that this implementation does not guarantee some set distribution of traits. \n",
    "        # Therefore, examining the effect of minorities etc is not facilitated.\n",
    "        for cell in self.grid.coord_iter():\n",
    "            agent_music = self.random.choice(['Rock', 'Jazz'])\n",
    "            agent_sport = self.random.choice(['Soccer', 'Cycling'])\n",
    "            agent_color = self.random.choice(['Red', 'Blue'])\n",
    "            agent_drink = self.random.choice(['Tea', 'Coffee'])\n",
    "            \n",
    "            agent = CulturalDiffAgent(cell, self, agent_music, agent_sport,\n",
    "                                      agent_color, agent_drink)\n",
    "            self.grid.position_agent(agent, cell)\n",
    "            self.schedule.add(agent)\n",
    "\n",
    "    def step(self):\n",
    "        \"\"\"\n",
    "        Run one step of the model.\n",
    "        \"\"\"\n",
    "        self.datacollector.collect(self)\n",
    "        self.schedule.step()\n",
    "\n",
    "\n",
    "class CulturalDiffAgent(Agent):\n",
    "    \"\"\"\n",
    "    Schelling segregation agent\n",
    "    \n",
    "    Parameters\n",
    "    ----------\n",
    "    pos : tuple of 2 ints\n",
    "          the x,y coordinates in the grid\n",
    "    model : Model instance\n",
    "    agent_music : {'Rock', 'Jazz'}\n",
    "    agent_sport : {'Soccer', 'Cycling'}\n",
    "    agent_color : {'Red', 'Blue'}\n",
    "    agent_drink : {'Tea', 'Coffee'}\n",
    "    \n",
    "    \"\"\"\n",
    "\n",
    "    def __init__(self, pos, model, agent_music, agent_sport, agent_color, agent_drink):\n",
    "        super().__init__(pos, model)\n",
    "        self.pos = pos\n",
    "        self.agent_music = agent_music\n",
    "        self.agent_sport = agent_sport\n",
    "        self.agent_color = agent_color\n",
    "        self.agent_drink = agent_drink\n",
    "        self.traits = ['agent_music', 'agent_sport', 'agent_color', 'agent_drink']\n",
    "        \n",
    "    def step(self):\n",
    "        \n",
    "        #For each neighbor, calculate the similarity\n",
    "        neighbor_similarity_dict = []\n",
    "        for neighbor in self.model.grid.neighbor_iter(self.pos, moore=False):\n",
    "            neighbor_similarity = 0\n",
    "            if self.agent_music == neighbor.agent_music: \n",
    "                neighbor_similarity += 1\n",
    "            if self.agent_sport == neighbor.agent_sport:\n",
    "                neighbor_similarity += 1\n",
    "            if self.agent_color == neighbor.agent_color:\n",
    "                neighbor_similarity += 1\n",
    "            if self.agent_drink == neighbor.agent_drink:\n",
    "                neighbor_similarity += 1\n",
    "            neighbor_similarity_dict[neighbor] = neighbor_similarity\n",
    "        \n",
    "        # Proportional to this similarity, pick a 'random' neighbor to interact with\n",
    "        neighbor_to_interact = self.random.choices(list(neighbor_similarity_dict.keys()),\n",
    "                                                   weights=neighbor_similarity_dict.values(), k=1)[0]\n",
    "        \n",
    "        # Select a trait that differs between the selected neighbor and self and change that trait in self\n",
    "        if neighbor_similarity_dict[neighbor_to_interact] != 4: #if 4, then they are already the same\n",
    "            \n",
    "            differing_traits = []\n",
    "            for trait in self.traits: \n",
    "                if getattr(self, trait) != getattr(neighbor_to_interact, trait):\n",
    "                    differing_traits.append(trait)\n",
    "\n",
    "            trait_to_adopt = self.random.choice(differing_traits)\n",
    "            trait_to_adopt_value = getattr(neighbor_to_interact, str(trait_to_adopt))\n",
    "\n",
    "            setattr(self, trait_to_adopt, trait_to_adopt_value)\n",
    "\n",
    "def calculate_nr_of_cultures(model):\n",
    "    diversity = collections.defaultdict(int)\n",
    "    for (agent, i, j) in model.grid.coord_iter():\n",
    "        if agent:\n",
    "            profile = [0] * 4\n",
    "            if agent.agent_music == 'Jazz':\n",
    "                profile[0] = 1\n",
    "\n",
    "            if agent.agent_sport == 'Cycling':\n",
    "                profile[1] = 1\n",
    "\n",
    "            if agent.agent_color == 'Blue':\n",
    "                profile[2] = 1\n",
    "\n",
    "            if agent.agent_drink == 'Coffee':\n",
    "                profile[3] = 1\n",
    "            \n",
    "            diversity[tuple(profile)] += 1\n",
    "\n",
    "    return len(diversity.keys())"
   ]
  },
  {
   "cell_type": "code",
   "execution_count": null,
   "metadata": {
    "ExecuteTime": {
     "end_time": "2021-01-15T14:24:22.425850Z",
     "start_time": "2021-01-15T14:24:22.416905Z"
    }
   },
   "outputs": [],
   "source": [
    "def traits_to_color(agent):\n",
    "    \"\"\" Converts the traits of an agent to a list of RGBA values\"\"\"\n",
    "    colors = [0] * 4\n",
    "    if agent.agent_music == 'Jazz':\n",
    "        colors[0] = 1\n",
    "            \n",
    "    if agent.agent_sport == 'Cycling':\n",
    "        colors[1] = 1\n",
    "            \n",
    "    if agent.agent_color == 'Blue':\n",
    "        colors[2] = 1\n",
    "            \n",
    "    if agent.agent_drink == 'Coffee':\n",
    "        colors[3] = 1\n",
    "    else: \n",
    "        colors[3] = 0 #Alpha of 0.2 is distinctly different from white and from the alpha = 1 color\n",
    "    \n",
    "    return colors"
   ]
  },
  {
   "cell_type": "markdown",
   "metadata": {},
   "source": [
    "# Visualization"
   ]
  },
  {
   "cell_type": "markdown",
   "metadata": {},
   "source": [
    "## Static images\n",
    "Visualization of this model are static images. A visualization after initialization, after 20 steps, after 50 steps, and after 200 steps is presented.\n",
    "\n",
    "### After initialization"
   ]
  },
  {
   "cell_type": "code",
   "execution_count": null,
   "metadata": {
    "ExecuteTime": {
     "end_time": "2021-01-15T14:24:23.407928Z",
     "start_time": "2021-01-15T14:24:23.377011Z"
    }
   },
   "outputs": [],
   "source": [
    "model = CulturalDiff(seed=123456789)"
   ]
  },
  {
   "cell_type": "code",
   "execution_count": null,
   "metadata": {
    "ExecuteTime": {
     "end_time": "2021-01-15T14:24:24.069054Z",
     "start_time": "2021-01-15T14:24:23.953363Z"
    }
   },
   "outputs": [],
   "source": [
    "import matplotlib.pyplot as plt\n",
    "import matplotlib.colors as colors\n",
    "import seaborn as sns\n",
    "import pandas as pd\n",
    "\n",
    "\n",
    "def plot_model(model, ax):\n",
    "    grid = np.zeros((model.height, model.width, 4))\n",
    "\n",
    "    for (cell, i, j) in model.grid.coord_iter():\n",
    "        value = [0,0,0,0] #in case not every cell is filled, the default colour is white\n",
    "        if cell is not None:\n",
    "            value = traits_to_color(cell)\n",
    "        grid[i,j] = value          \n",
    "    plt.imshow(grid)\n",
    "    \n",
    "fig, ax = plt.subplots()\n",
    "plot_model(model, ax)\n",
    "\n",
    "plt.show()"
   ]
  },
  {
   "cell_type": "markdown",
   "metadata": {},
   "source": [
    "### After 20 steps"
   ]
  },
  {
   "cell_type": "code",
   "execution_count": null,
   "metadata": {
    "ExecuteTime": {
     "end_time": "2021-01-15T14:24:26.482785Z",
     "start_time": "2021-01-15T14:24:26.272887Z"
    }
   },
   "outputs": [],
   "source": [
    "for i in range(20):\n",
    "    model.step()"
   ]
  },
  {
   "cell_type": "code",
   "execution_count": null,
   "metadata": {
    "ExecuteTime": {
     "end_time": "2021-01-15T14:24:26.789959Z",
     "start_time": "2021-01-15T14:24:26.614115Z"
    }
   },
   "outputs": [],
   "source": [
    "fig, ax = plt.subplots()\n",
    "plot_model(model, ax)\n",
    "\n",
    "plt.show()"
   ]
  },
  {
   "cell_type": "markdown",
   "metadata": {},
   "source": [
    "### After 50 steps"
   ]
  },
  {
   "cell_type": "code",
   "execution_count": null,
   "metadata": {
    "ExecuteTime": {
     "end_time": "2021-01-15T13:48:49.644024Z",
     "start_time": "2021-01-15T13:48:48.677581Z"
    }
   },
   "outputs": [],
   "source": [
    "for i in range(30):\n",
    "    model.step()"
   ]
  },
  {
   "cell_type": "code",
   "execution_count": null,
   "metadata": {
    "ExecuteTime": {
     "end_time": "2021-01-15T13:48:49.980705Z",
     "start_time": "2021-01-15T13:48:49.647015Z"
    }
   },
   "outputs": [],
   "source": [
    "fig, ax = plt.subplots()\n",
    "plot_model(model, ax)\n",
    "\n",
    "plt.show()"
   ]
  },
  {
   "cell_type": "markdown",
   "metadata": {},
   "source": [
    "### After 200 steps"
   ]
  },
  {
   "cell_type": "code",
   "execution_count": null,
   "metadata": {
    "ExecuteTime": {
     "end_time": "2021-01-15T13:48:52.916514Z",
     "start_time": "2021-01-15T13:48:49.983694Z"
    }
   },
   "outputs": [],
   "source": [
    "for i in range(150):\n",
    "    model.step()"
   ]
  },
  {
   "cell_type": "code",
   "execution_count": null,
   "metadata": {
    "ExecuteTime": {
     "end_time": "2021-01-15T13:48:53.180495Z",
     "start_time": "2021-01-15T13:48:52.918474Z"
    }
   },
   "outputs": [],
   "source": [
    "fig, ax = plt.subplots()\n",
    "plot_model(model, ax)\n",
    "\n",
    "plt.show()"
   ]
  }
 ],
 "metadata": {
  "kernelspec": {
   "display_name": "Python 3",
   "language": "python",
   "name": "python3"
  },
  "language_info": {
   "codemirror_mode": {
    "name": "ipython",
    "version": 3
   },
   "file_extension": ".py",
   "mimetype": "text/x-python",
   "name": "python",
   "nbconvert_exporter": "python",
   "pygments_lexer": "ipython3",
   "version": "3.8.5"
  }
 },
 "nbformat": 4,
 "nbformat_minor": 4
}
