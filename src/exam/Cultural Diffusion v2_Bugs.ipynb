{
 "cells": [
  {
   "cell_type": "markdown",
   "metadata": {},
   "source": [
    "## Conceptual description\n",
    "\n",
    "As people interact, they tend to become more alike in their beliefs, attitudes and behaviour. In \"The Dissemination of Culture: A Model with Local Convergence and Global Polarization\" (1997), Robert Axelrod presents an agent-based model to explain cultural diffusion. Analogous to Schelling's segregation model, the key to this conceptualization is the emergence of polarization from the interaction of individual agents. The basic premise is that the more similar an actor is to a neighbor, the more likely that that actor will adopt one of the neighbor's traits.\n",
    "\n",
    "In the model below, this is implemented by initializing the model by filling an excel-like grid with agents with random values [0,1] for each of four traits (music, sports, favorite color and drink):\n",
    "\n",
    "- *music* = {Rock, Jazz}\n",
    "- *sports* = {Soccer, Cycling}\n",
    "- *favorite color* = {Red, Blue}\n",
    "- *drink* = {Tea, Coffee}\n",
    "\n",
    "Each step, each agent (in random order) chooses a random neighbor from the 8 neighbors proportionaly to how similar it is to each of its neighbors, and adopts one randomly selected differing trait from this neighbor. \n",
    "\n",
    "To visualize the model, the four traits are transformed into 'RGBA' (Red-Green-Blue-Alpha) values; i.e. a color and an opacity. The visualizations below show the clusters of homogeneity being formed.\n"
   ]
  },
  {
   "cell_type": "code",
   "execution_count": 1,
   "metadata": {
    "ExecuteTime": {
     "end_time": "2021-01-15T14:07:45.643154Z",
     "start_time": "2021-01-15T14:07:45.625187Z"
    }
   },
   "outputs": [
    {
     "ename": "SyntaxError",
     "evalue": "invalid syntax (<ipython-input-1-92a5ed848800>, line 94)",
     "output_type": "error",
     "traceback": [
      "\u001b[0;36m  File \u001b[0;32m\"<ipython-input-1-92a5ed848800>\"\u001b[0;36m, line \u001b[0;32m94\u001b[0m\n\u001b[0;31m    if np.any(not_same_features)\u001b[0m\n\u001b[0m                                ^\u001b[0m\n\u001b[0;31mSyntaxError\u001b[0m\u001b[0;31m:\u001b[0m invalid syntax\n"
     ]
    }
   ],
   "source": [
    "import collections\n",
    "import random\n",
    "\n",
    "import numpy as np\n",
    "\n",
    "from mesa import Model, Agent\n",
    "import mesa.time as time\n",
    "from mesa.space import SingleGrid\n",
    "from mesa.datacollection import DataCollector\n",
    "\n",
    "class CulturalDiff(Model):\n",
    "    \"\"\"\n",
    "    Model class for the Schelling segregation model.\n",
    "    \n",
    "    Parameters\n",
    "    ----------\n",
    "    height : int\n",
    "             height of grid\n",
    "    width : int\n",
    "            height of grid\n",
    "    seed : int\n",
    "            random seed\n",
    "    \n",
    "    Attributes\n",
    "    ----------\n",
    "    height : int\n",
    "    width : int\n",
    "    density : float\n",
    "    schedule : RandomActivation instance\n",
    "    grid : SingleGrid instance\n",
    "    \n",
    "    \"\"\"\n",
    "\n",
    "    def __init__(self, height=20, width=20, seed=None):\n",
    "        super().__init__(seed=seed)\n",
    "        height = height\n",
    "        width = width\n",
    "\n",
    "        schedule = time.BaseScheduler(self)\n",
    "        grid = SingleGrid(width, height, torus=True)\n",
    "        self.datacollector = DataCollector(model_reporters={'diversity':calculate_nr_of_cultures})\n",
    "\n",
    "        # Fill grid with agents with random traits\n",
    "        \n",
    "        # Note that this implementation does not guarantee some set distribution of traits. \n",
    "        # Therefore, examining the effect of minorities etc is not facilitated.\n",
    "        for cell in self.grid.coord_iter():\n",
    "            profile = np.asarray([self.random.choice([0,1]) for _ in range(4)])\n",
    "            \n",
    "            agent = CulturalDiffAgent(cell, self, profile)\n",
    "            self.grid.position_agent(agent, cell)\n",
    "            self.schedule.add(agent)\n",
    "\n",
    "    def step(self):\n",
    "        \"\"\"\n",
    "        Run one step of the model.\n",
    "        \"\"\"\n",
    "        self.datacollector.collect(self)\n",
    "        self.schedule.step\n",
    "\n",
    "\n",
    "class CulturalDiffAgent(Agent):\n",
    "    \"\"\"\n",
    "    Schelling segregation agent\n",
    "    \n",
    "    Parameters\n",
    "    ----------\n",
    "    pos : tuple of 2 ints\n",
    "          the x,y coordinates in the grid\n",
    "    model : Model instance\n",
    "    profile : ndarray\n",
    "    \n",
    "    \"\"\"\n",
    "\n",
    "    def __init__(self, pos, model, profile):\n",
    "        super().__init__(pos, model)\n",
    "        self.pos = pos\n",
    "        self.profile = profile\n",
    "        \n",
    "    def step(self):\n",
    "        \n",
    "        #For each neighbor, calculate the similarity\n",
    "        neighbor_similarity_dict = {}\n",
    "        for neighbor in self.model.grid.neighbor_iter(self.pos, moore=True):\n",
    "            neighbor_similarity = np.sum(self.profile==neighbor.profile)\n",
    "            neighbor_similarity_dict[neighbor] = neighbor_similarity\n",
    "        \n",
    "        # Proportional to this similarity, pick a 'random' neighbor to interact with\n",
    "        neighbor_to_interact = random.choices(list(neighbor_similarity_dict.keys()),\n",
    "                                                   weights=neighbor_similarity_dict.values())[0]\n",
    "        \n",
    "        # Select a trait that differs between the selected neighbor and self and change that trait in self\n",
    "        # we are using some numpy boolean indexing to make this short and easy\n",
    "        not_same_features = self.profile != neighbor_to_interact.profile\n",
    "        \n",
    "        if np.any(not_same_features)\n",
    "            index_for_trait = self.random.choice(np.nonzero(not_same_features)[0])\n",
    "            self.profile[index_for_trait] = neighbor_to_interact.profile[index_for_trait]\n",
    "\n",
    "\n",
    "def traits_to_color(profile):  \n",
    "    \"\"\" Converts the traits of an agent to a list of RGBA values\"\"\"\n",
    "    color = profile.copy().astype(float)\n",
    "    if color[-1]==0:\n",
    "        color[-1] = 0.2\n",
    "    return color\n",
    "\n",
    "def calculate_nr_of_cultures(model):\n",
    "    diversity = collections.defaultdict(int)\n",
    "    for (cell, i, j) in model.grid.coord_iter():\n",
    "        if cell:\n",
    "            diversity[tuple(cell.profile)] += 1\n",
    "\n",
    "    return len(diversity.keys())"
   ]
  },
  {
   "cell_type": "markdown",
   "metadata": {},
   "source": [
    "# Visualization"
   ]
  },
  {
   "cell_type": "markdown",
   "metadata": {},
   "source": [
    "## Static images\n",
    "Visualization of this model are static images. A visualization after initialization, after 20 steps, after 50 steps, and after 200 steps is presented.\n",
    "\n",
    "### After initialization"
   ]
  },
  {
   "cell_type": "code",
   "execution_count": null,
   "metadata": {
    "ExecuteTime": {
     "end_time": "2021-01-15T14:07:46.488374Z",
     "start_time": "2021-01-15T14:07:46.458454Z"
    }
   },
   "outputs": [],
   "source": [
    "model = CulturalDiff(seed=123456789)"
   ]
  },
  {
   "cell_type": "code",
   "execution_count": null,
   "metadata": {
    "ExecuteTime": {
     "end_time": "2021-01-15T14:07:47.943783Z",
     "start_time": "2021-01-15T14:07:47.132822Z"
    }
   },
   "outputs": [],
   "source": [
    "import matplotlib.pyplot as plt\n",
    "import matplotlib.colors as colors\n",
    "import seaborn as sns\n",
    "import pandas as pd\n",
    "\n",
    "\n",
    "def plot_model(model, ax):\n",
    "    grid = np.zeros((model.height, model.width, 4))\n",
    "\n",
    "    for (cell, i, j) in model.grid.coord_iter():\n",
    "        color = [0,0,0,0] #in case not every cell is filled, the default colour is white\n",
    "        if cell is not None:\n",
    "            color = traits_to_color(cell.profile)\n",
    "        grid[i,j] = color          \n",
    "    plt.imshow(grid)\n",
    "    \n",
    "fig, ax = plt.subplots()\n",
    "plot_model(model, ax)\n",
    "\n",
    "plt.show()"
   ]
  },
  {
   "cell_type": "markdown",
   "metadata": {},
   "source": [
    "### After 20 steps"
   ]
  },
  {
   "cell_type": "code",
   "execution_count": null,
   "metadata": {},
   "outputs": [],
   "source": [
    "for i in range(20):\n",
    "    model.step()"
   ]
  },
  {
   "cell_type": "code",
   "execution_count": null,
   "metadata": {},
   "outputs": [],
   "source": [
    "fig, ax = plt.subplots()\n",
    "plot_model(model, ax)\n",
    "\n",
    "plt.show()"
   ]
  },
  {
   "cell_type": "markdown",
   "metadata": {},
   "source": [
    "### After 50 steps"
   ]
  },
  {
   "cell_type": "code",
   "execution_count": null,
   "metadata": {},
   "outputs": [],
   "source": [
    "for i in range(30):\n",
    "    model.step()"
   ]
  },
  {
   "cell_type": "code",
   "execution_count": null,
   "metadata": {},
   "outputs": [],
   "source": [
    "fig, ax = plt.subplots()\n",
    "plot_model(model, ax)\n",
    "\n",
    "plt.show()"
   ]
  },
  {
   "cell_type": "markdown",
   "metadata": {},
   "source": [
    "### After 200 steps"
   ]
  },
  {
   "cell_type": "code",
   "execution_count": null,
   "metadata": {},
   "outputs": [],
   "source": [
    "for i in range(150):\n",
    "    model.step()"
   ]
  },
  {
   "cell_type": "code",
   "execution_count": null,
   "metadata": {},
   "outputs": [],
   "source": [
    "fig, ax = plt.subplots()\n",
    "plot_model(model, ax)\n",
    "\n",
    "plt.show()"
   ]
  },
  {
   "cell_type": "code",
   "execution_count": null,
   "metadata": {},
   "outputs": [],
   "source": []
  }
 ],
 "metadata": {
  "kernelspec": {
   "display_name": "Python 3",
   "language": "python",
   "name": "python3"
  },
  "language_info": {
   "codemirror_mode": {
    "name": "ipython",
    "version": 3
   },
   "file_extension": ".py",
   "mimetype": "text/x-python",
   "name": "python",
   "nbconvert_exporter": "python",
   "pygments_lexer": "ipython3",
   "version": "3.8.5"
  }
 },
 "nbformat": 4,
 "nbformat_minor": 4
}
