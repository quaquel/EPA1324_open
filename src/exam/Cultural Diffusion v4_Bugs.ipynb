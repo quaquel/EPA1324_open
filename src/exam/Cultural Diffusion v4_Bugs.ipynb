{
 "cells": [
  {
   "cell_type": "markdown",
   "metadata": {},
   "source": [
    "## Conceptual description\n",
    "\n",
    "As people interact, they tend to become more alike in their beliefs, attitudes and behaviour. In \"The Dissemination of Culture: A Model with Local Convergence and Global Polarization\" (1997), Robert Axelrod presents an agent-based model to explain cultural diffusion. Analogous to Schelling's segregation model, the key to this conceptualization is the emergence of polarization from the interaction of individual agents. The basic premise is that the more similar an actor is to a neighbor, the more likely that that actor will adopt one of the neighbor's traits.\n",
    "\n",
    "In the model below, this is implemented by initializing the model by filling an excel-like grid with agents with random values [0,1] for each of four traits (music, sports, favorite color and drink). \n",
    "\n",
    "Each step, each agent (in random order) chooses a random neighbor from the 8 neighbors proportionaly to how similar it is to each of its neighbors, and adopts one randomly selected differing trait from this neighbor. Similarity between any two agents is calculated by 1 - euclidian distance over the four traits. \n",
    "\n",
    "To visualize the model, the four traits are transformed into 'RGBA' (Red-Green-Blue-Alpha) values; i.e. a color and an opacity. The visualizations below show the clusters of homogeneity being formed."
   ]
  },
  {
   "cell_type": "code",
   "execution_count": null,
   "metadata": {},
   "outputs": [],
   "source": [
    "from mesa import Model, Agent\n",
    "from mesa.time import RandomActivation\n",
    "import mesa.space as space\n",
    "from mesa.datacollection import DataCollector\n",
    "\n",
    "import math\n",
    "import random\n",
    "\n",
    "import numpy as np\n",
    "\n",
    "\n",
    "class CulturalDiff(Model):\n",
    "    \"\"\"\n",
    "    Model class for the Schelling segregation model.\n",
    "    \n",
    "    Parameters\n",
    "    ----------\n",
    "    height : int\n",
    "             height of grid\n",
    "    width : int\n",
    "            height of grid\n",
    "    seed : int\n",
    "            random seed\n",
    "    \n",
    "    Attributes\n",
    "    ----------\n",
    "    height : int\n",
    "    width : int\n",
    "    density : float\n",
    "    schedule : RandomActivation instance\n",
    "    grid : SingleGrid instance\n",
    "    \n",
    "    \"\"\"\n",
    "\n",
    "    def __init__(self, height=20, width=20, seed=None):\n",
    "        super().__init__(seed=seed)\n",
    "        self.height = height\n",
    "        self.width = width\n",
    "\n",
    "        self.schedule = RandomActivation(self)\n",
    "        self.grid = space.HexGrid(width, height, torus=True)\n",
    "        self.datacollector = DataCollector(model_reporters={'diversity':count_nr_cultures})\n",
    "\n",
    "        # Fill grid with agents with random traits\n",
    "        \n",
    "        # Note that this implementation does not guarantee some set distribution of traits. \n",
    "        # Therefore, examining the effect of minorities etc is not facilitated.\n",
    "        for cell in self.grid.coord_iter():\n",
    "            agent_music = self.random.random()\n",
    "            agent_sport = self.random.random()\n",
    "            agent_color = self.random.random()\n",
    "            agent_drink = self.random.random()\n",
    "            \n",
    "            agent = CulturalDiffAgent(cell, self, agent_music, agent_sport,\n",
    "                                      agent_color, agent_drink, agent_dance)\n",
    "            self.grid.position_agent(agent, cell)\n",
    "            self.schedule.add(agent)\n",
    "\n",
    "    def step(self):\n",
    "        \"\"\"\n",
    "        Run one step of the model.\n",
    "        \"\"\"\n",
    "        self.datacollector.collect(self)        \n",
    "        self.schedule.step()\n",
    "\n",
    "\n",
    "class CulturalDiffAgent(Agent):\n",
    "    \"\"\"\n",
    "    Schelling segregation agent\n",
    "    \n",
    "    Parameters\n",
    "    ----------\n",
    "    pos : tuple of 2 ints\n",
    "          the x,y coordinates in the grid\n",
    "    model : Model instance\n",
    "    agent_music : float\n",
    "    agent_sport : float\n",
    "    agent_color : float\n",
    "    agent_drink : float\n",
    "    \n",
    "    \"\"\"\n",
    "\n",
    "    def __init__(self, pos, model, agent_music, agent_sport, agent_color, agent_drink):\n",
    "        super().__init__(pos, model)\n",
    "        self.pos = pos\n",
    "        self.agent_music = agent_music\n",
    "        self.agent_sport = agent_sport\n",
    "        self.agent_color = agent_color\n",
    "        self.agent_drink = agent_drink\n",
    "        self.traits = ['agent_music', 'agent_sport', 'agent_color', 'agent_drink']\n",
    "        \n",
    "    def step(self):\n",
    "        \n",
    "        #For each neighbor, calculate the distance\n",
    "        neighbor_similarity_dict = {}\n",
    "        for neighbor in self.model.grid.neighbor_iter(self.pos, moore=False):\n",
    "            difs = 0\n",
    "            for trait in self.traits:\n",
    "                difs += (getattr(self, trait) - getattr(neighbor, trait))**2\n",
    "            distance = math.sqrt(difs)\n",
    "            \n",
    "            neighbor_similarity_dict[neighbor] = 1-distance\n",
    "        \n",
    "        # Proportional to this similarity, pick a 'random' neighbor to interact with\n",
    "        neighbor_to_interact = self.random.choices(list(neighbor_similarity_dict.keys()),\n",
    "                                                   weights=neighbor_similarity_dict.values(), k=1)[1]\n",
    "        \n",
    "        not_same_traits = [trait for trait in self.traits if not getattr(self, trait) != getattr(neighbor_to_interact, trait)]\n",
    "        \n",
    "        # Select a trait that differs between the selected neighbor and self and change that trait in self\n",
    "        if not_same_traits:\n",
    "            trait_to_adopt = self.random.choice(not_same_traits)\n",
    "            trait_to_adopt_value = getattr(neighbor_to_interact, trait_to_adopt)\n",
    "\n",
    "            setattr(self, trait_to_adopt, trait_to_adopt_value)\n",
    "\n",
    "def count_nr_cultures(model):\n",
    "    cultures = set()\n",
    "    for (cell, x,y) in model.grid.coord_iter():\n",
    "        profile = [getattr(cell, attr) for attr in cell.traits]\n",
    "        cultures.add(tuple(profile))\n",
    "    return len(cultures)"
   ]
  },
  {
   "cell_type": "markdown",
   "metadata": {},
   "source": [
    "# Visualization"
   ]
  },
  {
   "cell_type": "markdown",
   "metadata": {},
   "source": [
    "## Static images\n",
    "Visualization of this model are static images. A visualization after initialization, after 20 steps, after 50 steps, and after 200 steps is presented.\n",
    "\n",
    "### After initialization"
   ]
  },
  {
   "cell_type": "code",
   "execution_count": null,
   "metadata": {},
   "outputs": [],
   "source": [
    "model = CulturalDiff(seed=123456789)"
   ]
  },
  {
   "cell_type": "code",
   "execution_count": null,
   "metadata": {},
   "outputs": [],
   "source": [
    "import matplotlib.pyplot as plt\n",
    "import matplotlib.colors as colors\n",
    "import seaborn as sns\n",
    "import pandas as pd\n",
    "\n",
    "\n",
    "def plot_model(model, ax):\n",
    "    grid = np.zeros((model.height, model.width, 4))\n",
    "\n",
    "    for (cell, i, j) in model.grid.coord_iter():\n",
    "        value = [0,0,0,0] #in case not every cell is filled, the default colour is white\n",
    "        if cell is not None:\n",
    "            value = [getattr(cell, trait) for trait in cell.traits]\n",
    "        grid[i,j] = value          \n",
    "    plt.imshow(grid)\n",
    "    \n",
    "fig, ax = plt.subplots()\n",
    "plot_model(model, ax)\n",
    "\n",
    "plt.show()"
   ]
  },
  {
   "cell_type": "markdown",
   "metadata": {},
   "source": [
    "### After 20 steps"
   ]
  },
  {
   "cell_type": "code",
   "execution_count": null,
   "metadata": {},
   "outputs": [],
   "source": [
    "for i in range(20):\n",
    "    model.step()"
   ]
  },
  {
   "cell_type": "code",
   "execution_count": null,
   "metadata": {},
   "outputs": [],
   "source": [
    "fig, ax = plt.subplots()\n",
    "plot_model(model, ax)\n",
    "\n",
    "plt.show()"
   ]
  },
  {
   "cell_type": "markdown",
   "metadata": {},
   "source": [
    "### After 50 steps"
   ]
  },
  {
   "cell_type": "code",
   "execution_count": null,
   "metadata": {},
   "outputs": [],
   "source": [
    "for i in range(30):\n",
    "    model.step()"
   ]
  },
  {
   "cell_type": "code",
   "execution_count": null,
   "metadata": {},
   "outputs": [],
   "source": [
    "fig, ax = plt.subplots()\n",
    "plot_model(model, ax)\n",
    "\n",
    "plt.show()"
   ]
  },
  {
   "cell_type": "markdown",
   "metadata": {},
   "source": [
    "### After 200 steps"
   ]
  },
  {
   "cell_type": "code",
   "execution_count": null,
   "metadata": {},
   "outputs": [],
   "source": [
    "for i in range(150):\n",
    "    model.step()"
   ]
  },
  {
   "cell_type": "code",
   "execution_count": null,
   "metadata": {},
   "outputs": [],
   "source": [
    "fig, ax = plt.subplots()\n",
    "plot_model(model, ax)\n",
    "\n",
    "plt.show()"
   ]
  }
 ],
 "metadata": {
  "kernelspec": {
   "display_name": "Python 3",
   "language": "python",
   "name": "python3"
  },
  "language_info": {
   "codemirror_mode": {
    "name": "ipython",
    "version": 3
   },
   "file_extension": ".py",
   "mimetype": "text/x-python",
   "name": "python",
   "nbconvert_exporter": "python",
   "pygments_lexer": "ipython3",
   "version": "3.8.5"
  }
 },
 "nbformat": 4,
 "nbformat_minor": 4
}
